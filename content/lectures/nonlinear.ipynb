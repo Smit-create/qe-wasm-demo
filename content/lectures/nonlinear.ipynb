{
 "cells": [
  {
   "cell_type": "markdown",
   "id": "614ec6f4",
   "metadata": {},
   "source": [
    "# Nonlinear Problems\n",
    "\n",
    "To be completed."
   ]
  }
 ],
 "metadata": {
  "kernelspec": {
   "display_name": "Python 3",
   "language": "python",
   "name": "python3"
  }
 },
 "nbformat": 4,
 "nbformat_minor": 5
}
