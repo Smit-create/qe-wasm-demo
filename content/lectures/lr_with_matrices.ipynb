{
 "cells": [
  {
   "cell_type": "markdown",
   "id": "f74aea51",
   "metadata": {},
   "source": [
    "# Linear Regression with Matrices\n",
    "\n",
    "To be completed."
   ]
  }
 ],
 "metadata": {
  "kernelspec": {
   "display_name": "Python 3",
   "language": "python",
   "name": "python3"
  }
 },
 "nbformat": 4,
 "nbformat_minor": 5
}
