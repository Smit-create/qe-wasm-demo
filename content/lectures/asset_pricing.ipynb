{
 "cells": [
  {
   "cell_type": "markdown",
   "id": "c0577d6e",
   "metadata": {},
   "source": [
    "# Introduction to Asset Pricing\n",
    "\n",
    "To be completed."
   ]
  }
 ],
 "metadata": {
  "kernelspec": {
   "display_name": "Python 3",
   "language": "python",
   "name": "python3"
  }
 },
 "nbformat": 4,
 "nbformat_minor": 5
}
